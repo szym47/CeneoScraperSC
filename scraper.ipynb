{
 "cells": [
  {
   "attachments": {},
   "cell_type": "markdown",
   "metadata": {},
   "source": [
    "# Ceneo Scraper"
   ]
  },
  {
   "cell_type": "markdown",
   "metadata": {},
   "source": [
    "## Struktura pojedynczej opinii\n",
    "|Składowa|Selektor|Zmienna|\n",
    "|--------|--------|-------|\n",
    "|id opinii|[\"data-entry-id\"]|opinion_id|\n",
    "|autor|.user-post__author-name|author|\n",
    "|rekomendacja|.user-post__author-recomendation|recommendation|\n",
    "|gwiazdki|.user-post__score-count|stars|\n",
    "|treść|.user-post__text|content|\n",
    "|lista zalet|.review-feature__title--positives ~ .review-feature__item|pros|\n",
    "|lista wad|.review-feature__title--negatives ~ .review-feature__item|cons|\n",
    "|dla ilu przydatna|.vote-yes > span|helpful|\n",
    "|dla ilu nieprzydatna|.vote-no > span|unhelpful|\n",
    "|data wystawienia|.user-post__published > time:nth-child(1)|publish_date|\n",
    "|data zakupu|.user-post__published > time:nth-child(2)|purchase_date|"
   ]
  },
  {
   "attachments": {},
   "cell_type": "markdown",
   "metadata": {},
   "source": [
    "## Załadowanie bibliotek"
   ]
  },
  {
   "cell_type": "code",
   "execution_count": 81,
   "metadata": {},
   "outputs": [],
   "source": [
    "import os\n",
    "import json\n",
    "import requests\n",
    "from bs4 import BeautifulSoup"
   ]
  },
  {
   "attachments": {},
   "cell_type": "markdown",
   "metadata": {},
   "source": [
    "## Adres URL pierwszej strony z opiniami o produkcie"
   ]
  },
  {
   "cell_type": "code",
   "execution_count": 82,
   "metadata": {},
   "outputs": [],
   "source": [
    "product_id = \"138331381\"\n",
    "url = f\"https://www.ceneo.pl/{product_id}#tab=reviews\""
   ]
  },
  {
   "cell_type": "markdown",
   "metadata": {},
   "source": [
    "## Pobieranie wszystkich opinii z kodu HTML strony\n"
   ]
  },
  {
   "cell_type": "code",
   "execution_count": 83,
   "metadata": {},
   "outputs": [],
   "source": [
    "all_opinions=[]\n",
    "while(url):\n",
    "    response = requests.get(url)\n",
    "    page_dom = BeautifulSoup(response.text, \"html.parser\")\n",
    "    opinions = page_dom.select(\"div.js_product-review\")\n",
    "    for opinion in opinions:\n",
    "        single_opinion = {\n",
    "        \"opinion_id\" : opinion[\"data-entry-id\"],\n",
    "        \"author\" : opinion.select_one(\".user-post__author-name\").text.strip(),\n",
    "        \"recommendation\" : opinion.select_one(\".user-post__author-recomendation\").text.strip(),\n",
    "        \"stars\" : opinion.select_one(\".user-post__score-count\").text.strip(),\n",
    "        \"content\" : opinion.select_one(\".user-post__text\").text.strip(),\n",
    "        \"pros\" : [p.text.strip() for p in opinion.select(\".review-feature__title--positives ~ .review-feature__item\")],\n",
    "        \"cons\" : [c.text.strip() for c in opinion.select(\".review-feature__title--negatives ~ .review-feature__item\")],\n",
    "        \"helpful\" : opinion.select_one(\".vote-yes > span\").text.strip(),\n",
    "        \"unhelpful\" : opinion.select_one(\".vote-no > span\").text.strip(),\n",
    "        \"publish_date\" : opinion.select_one(\".user-post__published > time:nth-child(1)\")[\"datetime\"].strip(),\n",
    "        \"purchase_date\" : opinion.select_one(\".user-post__published > time:nth-child(2)\")[\"datetime\"].strip(),\n",
    "        }\n",
    "        all_opinions.append(single_opinion)\n",
    "    try:\n",
    "        url= \"https://www.ceneo.pl/\"+page_dom.select_one(\"a.pagination__next\")[\"href\"].strip()\n",
    "    except TypeError: url= None"
   ]
  },
  {
   "cell_type": "markdown",
   "metadata": {},
   "source": [
    "## Zapis opinii do pliku"
   ]
  },
  {
   "cell_type": "code",
   "execution_count": 84,
   "metadata": {},
   "outputs": [],
   "source": [
    "if not os.path.exists(\"opinions\"):\n",
    "    os.makedirs(\"opinions\")\n",
    "with open(f\"opinions/{product_id}.json\",\"w\", encoding=\"UTF-8\") as jf:\n",
    "    json.dump(all_opinions, jf, indent=4, ensure_ascii=False)"
   ]
  },
  {
   "cell_type": "code",
   "execution_count": null,
   "metadata": {},
   "outputs": [],
   "source": []
  }
 ],
 "metadata": {
  "kernelspec": {
   "display_name": ".venv",
   "language": "python",
   "name": "python3"
  },
  "language_info": {
   "codemirror_mode": {
    "name": "ipython",
    "version": 3
   },
   "file_extension": ".py",
   "mimetype": "text/x-python",
   "name": "python",
   "nbconvert_exporter": "python",
   "pygments_lexer": "ipython3",
   "version": "3.12.2"
  },
  "orig_nbformat": 4
 },
 "nbformat": 4,
 "nbformat_minor": 2
}
