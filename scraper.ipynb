{
 "cells": [
  {
   "attachments": {},
   "cell_type": "markdown",
   "metadata": {},
   "source": [
    "# Ceneo Scraper"
   ]
  },
  {
   "attachments": {},
   "cell_type": "markdown",
   "metadata": {},
   "source": [
    "## Załadowanie bibliotek"
   ]
  },
  {
   "cell_type": "code",
   "execution_count": null,
   "metadata": {},
   "outputs": [],
   "source": [
    "import requests\n",
    "from bs4 import BeautifulSoup"
   ]
  },
  {
   "attachments": {},
   "cell_type": "markdown",
   "metadata": {},
   "source": [
    "## Wysłanie zapytania do serwera"
   ]
  },
  {
   "cell_type": "code",
   "execution_count": null,
   "metadata": {},
   "outputs": [],
   "source": [
    "product_id = \"138331381\"\n",
    "url = f\"https://www.ceneo.pl/{product_id}#tab=reviews\"\n",
    "response = requests.get(url)"
   ]
  },
  {
   "cell_type": "markdown",
   "metadata": {},
   "source": [
    "## Pobieranie opinii z kodu HTML strony\n"
   ]
  },
  {
   "cell_type": "code",
   "execution_count": null,
   "metadata": {},
   "outputs": [],
   "source": [
    "page_dom = BeautifulSoup(response.text, \"html.parser\")\n",
    "print(type(page_dom))\n",
    "opinions = page_dom.select(\"div.js_product-review\")\n",
    "print(type(opinions))\n",
    "opinion= opinions.pop(0)\n",
    "print(type(opinion))"
   ]
  },
  {
   "cell_type": "code",
   "execution_count": null,
   "metadata": {},
   "outputs": [],
   "source": [
    "print(opinion)"
   ]
  },
  {
   "cell_type": "markdown",
   "metadata": {},
   "source": [
    "## Ekstracja składowych pojedynczej opinii\n",
    "|Składowa|Selektor|Zmienna|\n",
    "|--------|--------|-------|\n",
    "|id opinii|[\"data-entry-id\"]|opinion_id|\n",
    "|autor|.user-post__author-name|author|\n",
    "|rekomendacja|.user-post__author-recomendation|recommendation|\n",
    "|gwiazdki|.user-post__score-count|stars|\n",
    "|treść|.user-post__|content|\n",
    "|lista zalet|.review-feature__title--positives ~ .review-feauture__item|pros|\n",
    "|lista wad|.review-feature__title--negatives ~ .review-feauture__item|cons|\n",
    "|dla ilu przydatna|.vote-yes > span|helpful|\n",
    "|dla ilu nieprzydatna|.vote-no > span|unhelpful|\n",
    "|data wystawienia|.user-post__published > time:nth-child(1)[\"datetime\"]|publish_date|\n",
    "|data zakupu|.user-post__published > time:nth-child(2)[\"datetime\"]|purchase_date|"
   ]
  },
  {
   "cell_type": "code",
   "execution_count": null,
   "metadata": {},
   "outputs": [],
   "source": [
    "opinion_id = opinion[\"data...\"]\n",
    "author = opinion.select(\"\")\n",
    "recommendation = opinion.select(\"\")\n",
    "stars = opinion.select(\"\")\n",
    "content = opinion.select(\"\")\n",
    "pros = opinion.select(\"\")\n",
    "cons = opinion.select(\"\")\n",
    "helpful = opinion.select(\"\")\n",
    "unhelpful = opinion.select(\"\")\n",
    "publish_date = opinion.select(\"\")\n",
    "purchase_date = opinion.select(\"\")"
   ]
  },
  {
   "cell_type": "code",
   "execution_count": null,
   "metadata": {},
   "outputs": [],
   "source": []
  }
 ],
 "metadata": {
  "kernelspec": {
   "display_name": ".venv",
   "language": "python",
   "name": "python3"
  },
  "language_info": {
   "codemirror_mode": {
    "name": "ipython",
    "version": 3
   },
   "file_extension": ".py",
   "mimetype": "text/x-python",
   "name": "python",
   "nbconvert_exporter": "python",
   "pygments_lexer": "ipython3",
   "version": "3.12.2"
  },
  "orig_nbformat": 4
 },
 "nbformat": 4,
 "nbformat_minor": 2
}
