{
 "cells": [
  {
   "attachments": {},
   "cell_type": "markdown",
   "metadata": {},
   "source": [
    "# Ceneo Scraper"
   ]
  },
  {
   "cell_type": "markdown",
   "metadata": {},
   "source": [
    "## Struktura pojedynczej opinii\n",
    "|Składowa|Selektor|Zmienna|\n",
    "|--------|--------|-------|\n",
    "|id opinii|[\"data-entry-id\"]|opinion_id|\n",
    "|autor|.user-post__author-name|author|\n",
    "|rekomendacja|.user-post__author-recomendation|recommendation|\n",
    "|gwiazdki|.user-post__score-count|stars|\n",
    "|treść|.user-post__text|content|\n",
    "|lista zalet|.review-feature__title--positives ~ .review-feature__item|pros|\n",
    "|lista wad|.review-feature__title--negatives ~ .review-feature__item|cons|\n",
    "|dla ilu przydatna|.vote-yes > span|helpful|\n",
    "|dla ilu nieprzydatna|.vote-no > span|unhelpful|\n",
    "|data wystawienia|.user-post__published > time:nth-child(1)|publish_date|\n",
    "|data zakupu|.user-post__published > time:nth-child(2)|purchase_date|"
   ]
  },
  {
   "attachments": {},
   "cell_type": "markdown",
   "metadata": {},
   "source": [
    "## Załadowanie bibliotek"
   ]
  },
  {
   "cell_type": "code",
   "execution_count": 10,
   "metadata": {},
   "outputs": [],
   "source": [
    "import os\n",
    "import json\n",
    "import requests\n",
    "from bs4 import BeautifulSoup"
   ]
  },
  {
   "cell_type": "markdown",
   "metadata": {},
   "source": [
    "## Funkcja"
   ]
  },
  {
   "cell_type": "code",
   "execution_count": 11,
   "metadata": {},
   "outputs": [],
   "source": [
    "def extract(ancestor,selektor=None,attribute=None,return_list=False):\n",
    "    if selektor:\n",
    "        if return_list:\n",
    "            if attribute:\n",
    "                return [tag[attribute].strip() for tag in ancestor.select(selektor)]\n",
    "            return [tag.text.strip() for tag in ancestor.select(selektor)]\n",
    "        if attribute: \n",
    "            try:\n",
    "                return ancestor.select_one(selektor)[attribute].strip()\n",
    "            except TypeError:\n",
    "                return None\n",
    "        try: \n",
    "            return ancestor.select_one(selektor).text.strip()\n",
    "        except AttributeError:\n",
    "            return None\n",
    "    if attribute:\n",
    "        return ancestor[attribute]\n",
    "    return ancestor.text.strip()\n",
    "   "
   ]
  },
  {
   "cell_type": "markdown",
   "metadata": {},
   "source": [
    "## Selektory składowych opinii"
   ]
  },
  {
   "cell_type": "code",
   "execution_count": 12,
   "metadata": {},
   "outputs": [],
   "source": [
    "selectors = {\n",
    "        \"opinion_id\" : (None,\"data-entry-id\"),\n",
    "        \"author\" : (\".user-post__author-name\",),\n",
    "        \"recommendation\" : (\".user-post__author-recomendation\",),\n",
    "        \"stars\" : (\".user-post__score-count\",),\n",
    "        \"content\" : (\".user-post__text\",),\n",
    "        \"pros\" : (\".review-feature__title--positives ~ .review-feature__item\",None,True),\n",
    "        \"cons\" : (\".review-feature__title--negatives ~ .review-feature__item\",None,True),\n",
    "        \"helpful\" : (\".vote-yes > span\",),\n",
    "        \"unhelpful\" : (\".vote-no > span\",),\n",
    "        \"publish_date\" : (\".user-post__published > time:nth-child(1)\",\"datetime\"),\n",
    "        \"purchase_date\" : (\".user-post__published > time:nth-child(2)\",\"datetime\"),\n",
    "        }"
   ]
  },
  {
   "attachments": {},
   "cell_type": "markdown",
   "metadata": {},
   "source": [
    "## Adres URL pierwszej strony z opiniami o produkcie"
   ]
  },
  {
   "cell_type": "code",
   "execution_count": 13,
   "metadata": {},
   "outputs": [],
   "source": [
    "#product_id = \"138331381\"\n",
    "# product_id = \"39562616\"\n",
    "product_id = input(\"Podaj kod produktu: \")\n",
    "url = f\"https://www.ceneo.pl/{product_id}#tab=reviews\""
   ]
  },
  {
   "cell_type": "markdown",
   "metadata": {},
   "source": [
    "## Pobieranie wszystkich opinii z kodu HTML strony\n"
   ]
  },
  {
   "cell_type": "code",
   "execution_count": 14,
   "metadata": {},
   "outputs": [],
   "source": [
    "all_opinions=[]\n",
    "while(url):\n",
    "    response = requests.get(url)\n",
    "    page_dom = BeautifulSoup(response.text, \"html.parser\")\n",
    "    opinions = page_dom.select(\"div.js_product-review\")\n",
    "    for opinion in opinions:\n",
    "        single_opinion = {\n",
    "            key: extract(opinion, *value)\n",
    "                for key,value in selectors.items()\n",
    "        }\n",
    "        all_opinions.append(single_opinion)\n",
    "    try:\n",
    "        url= \"https://www.ceneo.pl/\"+page_dom.select_one(\"a.pagination__next\")[\"href\"].strip()\n",
    "    except TypeError: url= None"
   ]
  },
  {
   "cell_type": "markdown",
   "metadata": {},
   "source": [
    "## Zapis opinii do pliku"
   ]
  },
  {
   "cell_type": "code",
   "execution_count": 15,
   "metadata": {},
   "outputs": [],
   "source": [
    "if not os.path.exists(\"opinions\"):\n",
    "    os.makedirs(\"opinions\")\n",
    "with open(f\"opinions/{product_id}.json\",\"w\", encoding=\"UTF-8\") as jf:\n",
    "    json.dump(all_opinions, jf, indent=4, ensure_ascii=False)"
   ]
  },
  {
   "cell_type": "code",
   "execution_count": null,
   "metadata": {},
   "outputs": [],
   "source": []
  }
 ],
 "metadata": {
  "kernelspec": {
   "display_name": ".venv",
   "language": "python",
   "name": "python3"
  },
  "language_info": {
   "codemirror_mode": {
    "name": "ipython",
    "version": 3
   },
   "file_extension": ".py",
   "mimetype": "text/x-python",
   "name": "python",
   "nbconvert_exporter": "python",
   "pygments_lexer": "ipython3",
   "version": "3.12.3"
  },
  "orig_nbformat": 4
 },
 "nbformat": 4,
 "nbformat_minor": 2
}
